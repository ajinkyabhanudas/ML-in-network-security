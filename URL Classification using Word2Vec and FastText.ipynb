{
 "cells": [
  {
   "cell_type": "markdown",
   "metadata": {},
   "source": [
    "# URL score calculator to determine if it is malicious or not."
   ]
  },
  {
   "cell_type": "markdown",
   "metadata": {},
   "source": [
    "## Models make use of Word2Vec (CBOW) and FastText for certain components"
   ]
  },
  {
   "cell_type": "markdown",
   "metadata": {},
   "source": [
    "## imports"
   ]
  },
  {
   "cell_type": "code",
   "execution_count": 1,
   "metadata": {},
   "outputs": [
    {
     "name": "stderr",
     "output_type": "stream",
     "text": [
      "Using TensorFlow backend.\n",
      "C:\\Users\\adessai\\anaconda3\\lib\\site-packages\\tensorflow\\python\\framework\\dtypes.py:516: FutureWarning: Passing (type, 1) or '1type' as a synonym of type is deprecated; in a future version of numpy, it will be understood as (type, (1,)) / '(1,)type'.\n",
      "  _np_qint8 = np.dtype([(\"qint8\", np.int8, 1)])\n",
      "C:\\Users\\adessai\\anaconda3\\lib\\site-packages\\tensorflow\\python\\framework\\dtypes.py:517: FutureWarning: Passing (type, 1) or '1type' as a synonym of type is deprecated; in a future version of numpy, it will be understood as (type, (1,)) / '(1,)type'.\n",
      "  _np_quint8 = np.dtype([(\"quint8\", np.uint8, 1)])\n",
      "C:\\Users\\adessai\\anaconda3\\lib\\site-packages\\tensorflow\\python\\framework\\dtypes.py:518: FutureWarning: Passing (type, 1) or '1type' as a synonym of type is deprecated; in a future version of numpy, it will be understood as (type, (1,)) / '(1,)type'.\n",
      "  _np_qint16 = np.dtype([(\"qint16\", np.int16, 1)])\n",
      "C:\\Users\\adessai\\anaconda3\\lib\\site-packages\\tensorflow\\python\\framework\\dtypes.py:519: FutureWarning: Passing (type, 1) or '1type' as a synonym of type is deprecated; in a future version of numpy, it will be understood as (type, (1,)) / '(1,)type'.\n",
      "  _np_quint16 = np.dtype([(\"quint16\", np.uint16, 1)])\n",
      "C:\\Users\\adessai\\anaconda3\\lib\\site-packages\\tensorflow\\python\\framework\\dtypes.py:520: FutureWarning: Passing (type, 1) or '1type' as a synonym of type is deprecated; in a future version of numpy, it will be understood as (type, (1,)) / '(1,)type'.\n",
      "  _np_qint32 = np.dtype([(\"qint32\", np.int32, 1)])\n",
      "C:\\Users\\adessai\\anaconda3\\lib\\site-packages\\tensorflow\\python\\framework\\dtypes.py:525: FutureWarning: Passing (type, 1) or '1type' as a synonym of type is deprecated; in a future version of numpy, it will be understood as (type, (1,)) / '(1,)type'.\n",
      "  np_resource = np.dtype([(\"resource\", np.ubyte, 1)])\n",
      "C:\\Users\\adessai\\AppData\\Roaming\\Python\\Python37\\site-packages\\tensorboard\\compat\\tensorflow_stub\\dtypes.py:541: FutureWarning: Passing (type, 1) or '1type' as a synonym of type is deprecated; in a future version of numpy, it will be understood as (type, (1,)) / '(1,)type'.\n",
      "  _np_qint8 = np.dtype([(\"qint8\", np.int8, 1)])\n",
      "C:\\Users\\adessai\\AppData\\Roaming\\Python\\Python37\\site-packages\\tensorboard\\compat\\tensorflow_stub\\dtypes.py:542: FutureWarning: Passing (type, 1) or '1type' as a synonym of type is deprecated; in a future version of numpy, it will be understood as (type, (1,)) / '(1,)type'.\n",
      "  _np_quint8 = np.dtype([(\"quint8\", np.uint8, 1)])\n",
      "C:\\Users\\adessai\\AppData\\Roaming\\Python\\Python37\\site-packages\\tensorboard\\compat\\tensorflow_stub\\dtypes.py:543: FutureWarning: Passing (type, 1) or '1type' as a synonym of type is deprecated; in a future version of numpy, it will be understood as (type, (1,)) / '(1,)type'.\n",
      "  _np_qint16 = np.dtype([(\"qint16\", np.int16, 1)])\n",
      "C:\\Users\\adessai\\AppData\\Roaming\\Python\\Python37\\site-packages\\tensorboard\\compat\\tensorflow_stub\\dtypes.py:544: FutureWarning: Passing (type, 1) or '1type' as a synonym of type is deprecated; in a future version of numpy, it will be understood as (type, (1,)) / '(1,)type'.\n",
      "  _np_quint16 = np.dtype([(\"quint16\", np.uint16, 1)])\n",
      "C:\\Users\\adessai\\AppData\\Roaming\\Python\\Python37\\site-packages\\tensorboard\\compat\\tensorflow_stub\\dtypes.py:545: FutureWarning: Passing (type, 1) or '1type' as a synonym of type is deprecated; in a future version of numpy, it will be understood as (type, (1,)) / '(1,)type'.\n",
      "  _np_qint32 = np.dtype([(\"qint32\", np.int32, 1)])\n",
      "C:\\Users\\adessai\\AppData\\Roaming\\Python\\Python37\\site-packages\\tensorboard\\compat\\tensorflow_stub\\dtypes.py:550: FutureWarning: Passing (type, 1) or '1type' as a synonym of type is deprecated; in a future version of numpy, it will be understood as (type, (1,)) / '(1,)type'.\n",
      "  np_resource = np.dtype([(\"resource\", np.ubyte, 1)])\n",
      "C:\\Users\\adessai\\anaconda3\\lib\\site-packages\\gensim\\utils.py:1197: UserWarning: detected Windows; aliasing chunkize to chunkize_serial\n",
      "  warnings.warn(\"detected Windows; aliasing chunkize to chunkize_serial\")\n"
     ]
    }
   ],
   "source": [
    "import pandas as pd\n",
    "import keras\n",
    "import matplotlib.pyplot as plt\n",
    "import numpy as np\n",
    "from keras.models import load_model\n",
    "from urllib.parse import urlparse,urlsplit\n",
    "import gensim\n",
    "from gensim.models import Word2Vec, FastText  "
   ]
  },
  {
   "cell_type": "markdown",
   "metadata": {},
   "source": [
    "## Prepare input data :"
   ]
  },
  {
   "cell_type": "markdown",
   "metadata": {},
   "source": [
    "## split"
   ]
  },
  {
   "cell_type": "code",
   "execution_count": 2,
   "metadata": {},
   "outputs": [],
   "source": [
    "def splitter(url_list):\n",
    "    new_df=pd.DataFrame(columns=[\"scheme\",\"netloc\",\"path\",\"query\",\"fragment\"])\n",
    "    for url in url_list:\n",
    "    #     test = [urlsplit(url).scheme, urlsplit(url).netloc, urlsplit(url).path, urlsplit(url).query, urlsplit(url).fragment]\n",
    "        split_result=urlsplit(url)\n",
    "        scheme = split_result.scheme\n",
    "        netloc = split_result.netloc\n",
    "        path = split_result.path\n",
    "        query = split_result.query\n",
    "        new_df =  new_df.append({'scheme': scheme, 'netloc': netloc, 'path': path, 'query': query}, ignore_index= True)\n",
    "        new_df.fillna(0,inplace=True)\n",
    "    return (new_df)"
   ]
  },
  {
   "cell_type": "markdown",
   "metadata": {},
   "source": [
    "## vectorise using word2vec (cbow)"
   ]
  },
  {
   "cell_type": "code",
   "execution_count": 3,
   "metadata": {},
   "outputs": [],
   "source": [
    "def vectorizer(new_df):\n",
    "    \n",
    "    model1 = Word2Vec.load(\"w2v_url\")\n",
    "    model2 = Word2Vec.load(\"w2v_path\")\n",
    "    model3 = Word2Vec.load(\"w2v_query\")\n",
    "    \n",
    "    \n",
    "    splitr1= new_df[\"netloc\"]\n",
    "    splitr2= new_df[\"path\"]\n",
    "    splitr3= new_df[\"query\"]\n",
    "\n",
    "    splitr1_1= [str(val).split(\".\") for val in splitr1.tolist()]\n",
    "    splitr2_1= [str(val).split(\"/\") for val in splitr2.tolist()]\n",
    "    splitr3_1= [str(val).split(\"=\") for val in splitr3.tolist()]\n",
    "    print(len(splitr1_1),len(splitr2_1),len(splitr3_1))\n",
    "    \n",
    "    model1.build_vocab(splitr1_1, update=True)\n",
    "    model1.train(splitr1_1, total_examples=len(splitr1_1), epochs=1)\n",
    "\n",
    "    model2.build_vocab(splitr2_1, update=True)\n",
    "    model2.train(splitr2_1, total_examples=len(splitr1_1), epochs=1)\n",
    "\n",
    "    model3.build_vocab(splitr3_1, update=True)\n",
    "    model3.train(splitr3_1, total_examples=len(splitr1_1), epochs=1)\n",
    "    \n",
    "    holder1=[]\n",
    "    vec_df1= pd.DataFrame()\n",
    "    val=[0 for i in range(100)]\n",
    "    for i in range(len(splitr1_1)):\n",
    "        for j in range(len(splitr1_1[i])):\n",
    "            val += model1[splitr1_1[i][j]]\n",
    "        holder1.append(val.tolist())\n",
    "        val *=0\n",
    "    vec_df1=vec_df1.append(holder1)   \n",
    "    vec_df1.head()\n",
    "\n",
    "    holder2=[]\n",
    "    vec_df2= pd.DataFrame()\n",
    "    val=[0 for i in range(100)]\n",
    "    for i in range(len(splitr2_1)):\n",
    "        for j in range(len(splitr2_1[i])):\n",
    "            val += model2[splitr2_1[i][j]]\n",
    "        holder2.append(val.tolist())\n",
    "        val *=0\n",
    "    vec_df2=vec_df2.append(holder2) \n",
    "    vec_df2.head()\n",
    "\n",
    "    holder3=[]\n",
    "    vec_df3= pd.DataFrame()\n",
    "    val=[0 for i in range(100)]\n",
    "    for i in range(len(splitr3_1)):\n",
    "        for j in range(len(splitr3_1[i])):\n",
    "            val += model3[splitr3_1[i][j]]\n",
    "        holder3.append(val.tolist())\n",
    "        val *=0\n",
    "    vec_df3=vec_df3.append(holder3) \n",
    "    vec_df3.head()\n",
    "    \n",
    "    \n",
    "    tester_df_batch=pd.DataFrame()\n",
    "    tester_df_batch=pd.concat([vec_df1,vec_df2,vec_df3], axis=1)\n",
    "    \n",
    "    return(tester_df_batch)"
   ]
  },
  {
   "cell_type": "markdown",
   "metadata": {},
   "source": [
    "# URL score prediction, update, endpoint mischief scorer :"
   ]
  },
  {
   "cell_type": "markdown",
   "metadata": {},
   "source": [
    "## url score updater"
   ]
  },
  {
   "cell_type": "code",
   "execution_count": 4,
   "metadata": {},
   "outputs": [],
   "source": [
    "def return_avg_for_updated_url_score (eps,model):\n",
    "    switch = []\n",
    "    for key in eps.keys():\n",
    "        for val in range(len(eps[key])):\n",
    "            switch+=[(eps[key][val],key,calc_endpoint_score(model.predict(vectorizer(splitter(eps[key]))).tolist()))]\n",
    "\n",
    "    y =pd.DataFrame(switch, columns=['url','ip','eps_score'])\n",
    "\n",
    "    grouped_sum = y.groupby('url').sum()\n",
    "    grouped_size = y.groupby('url').size()\n",
    "    # grouped_size['a']\n",
    "\n",
    "\n",
    "    unique_urls = list(y['url'].unique())\n",
    "    avg_scores_of_endpoints_hitting_the_same_url =[]\n",
    "    for url in unique_urls :\n",
    "        avg_scores_of_endpoints_hitting_the_same_url += [{url:grouped_sum['eps_score'][url]/grouped_size[url]}]\n",
    "\n",
    "    return(avg_scores_of_endpoints_hitting_the_same_url,unique_urls)    "
   ]
  },
  {
   "cell_type": "markdown",
   "metadata": {},
   "source": [
    "## endpoint score calculator"
   ]
  },
  {
   "cell_type": "code",
   "execution_count": 5,
   "metadata": {},
   "outputs": [],
   "source": [
    "def calc_endpoint_score(score):\n",
    "    day_score = float()\n",
    "    bad_counter = int()\n",
    "    for sc in score:\n",
    "\n",
    "        if sc[0] > 0.5:\n",
    "            day_score += sc[0]\n",
    "            bad_counter += 1\n",
    "        else:\n",
    "            day_score += sc[0]\n",
    "\n",
    "    bad_counter\n",
    "    ep_w = (day_score/len(score))*(1.0-(1-(bad_counter/len(score))))\n",
    "    return(ep_w)"
   ]
  },
  {
   "cell_type": "markdown",
   "metadata": {},
   "source": [
    "## url name_vector relatedness "
   ]
  },
  {
   "cell_type": "code",
   "execution_count": 6,
   "metadata": {},
   "outputs": [],
   "source": [
    "def vector_relatedness(url):\n",
    "    w_ = urlsplit(url)\n",
    "    w_netloc = w_.netloc.split('.')\n",
    "    w_path = w_.path.split('.')\n",
    "    \n",
    "    if(w_netloc[0]==''):\n",
    "\n",
    "        related_word=w_path\n",
    "        if(related_word[0] == 'www'):\n",
    "            related_word_finder = related_word[1]\n",
    "\n",
    "        else:\n",
    "            related_word_finder = related_word[0]\n",
    "\n",
    "    elif(w_netloc[0]=='www'):\n",
    "        related_word_finder = w_netloc[1]\n",
    "\n",
    "    else:\n",
    "        related_word_finder = w_netloc[0]\n",
    "        \n",
    "        \n",
    "    FastText_model = FastText.load('ft_.model')\n",
    "    relatedness_vector = FastText_model.wv.most_similar_cosmul(related_word_finder)\n",
    "    rv =np.mean([i[1] for i in relatedness_vector])\n",
    "    return(rv)"
   ]
  },
  {
   "cell_type": "markdown",
   "metadata": {},
   "source": [
    "## updating url scores based on relatedness and endpoint scores "
   ]
  },
  {
   "cell_type": "code",
   "execution_count": 7,
   "metadata": {},
   "outputs": [],
   "source": [
    "def url_score_recalculator(val_avg, unique_urls, url_scores):\n",
    "    val_avg = val_avg\n",
    "    unique_urls = unique_urls\n",
    "    url_scores = [url_scores[i][0] for i in range(len(url_scores))]\n",
    "    avg_list = [float(str(*list(val_avg[i].values()))) for i in range(len(val_avg))]\n",
    "    \n",
    "    rv =[vector_relatedness(url) for url in unique_urls]\n",
    "    m_rv_url_score = np.add(np.multiply(url_scores,0.85),np.multiply(rv,0.1))\n",
    "    \n",
    "    m_avg_list = np.multiply(avg_list,0.05)\n",
    "    \n",
    "    updated_scores = np.subtract(m_rv_url_score,m_avg_list)\n",
    "    updated_url_score_dict = [{unique_urls[i]:updated_scores[i]} for i in range(len(unique_urls))]\n",
    "    return(updated_url_score_dict)"
   ]
  },
  {
   "cell_type": "markdown",
   "metadata": {},
   "source": [
    "## inputs and outputs"
   ]
  },
  {
   "cell_type": "code",
   "execution_count": 8,
   "metadata": {},
   "outputs": [
    {
     "name": "stdout",
     "output_type": "stream",
     "text": [
      "WARNING:tensorflow:From C:\\Users\\adessai\\anaconda3\\lib\\site-packages\\keras\\backend\\tensorflow_backend.py:517: The name tf.placeholder is deprecated. Please use tf.compat.v1.placeholder instead.\n",
      "\n",
      "WARNING:tensorflow:From C:\\Users\\adessai\\anaconda3\\lib\\site-packages\\keras\\backend\\tensorflow_backend.py:4138: The name tf.random_uniform is deprecated. Please use tf.random.uniform instead.\n",
      "\n",
      "WARNING:tensorflow:From C:\\Users\\adessai\\anaconda3\\lib\\site-packages\\keras\\backend\\tensorflow_backend.py:131: The name tf.get_default_graph is deprecated. Please use tf.compat.v1.get_default_graph instead.\n",
      "\n",
      "WARNING:tensorflow:From C:\\Users\\adessai\\anaconda3\\lib\\site-packages\\keras\\backend\\tensorflow_backend.py:133: The name tf.placeholder_with_default is deprecated. Please use tf.compat.v1.placeholder_with_default instead.\n",
      "\n",
      "WARNING:tensorflow:From C:\\Users\\adessai\\anaconda3\\lib\\site-packages\\keras\\backend\\tensorflow_backend.py:3445: calling dropout (from tensorflow.python.ops.nn_ops) with keep_prob is deprecated and will be removed in a future version.\n",
      "Instructions for updating:\n",
      "Please use `rate` instead of `keep_prob`. Rate should be set to `rate = 1 - keep_prob`.\n",
      "WARNING:tensorflow:Large dropout rate: 0.6 (>0.5). In TensorFlow 2.x, dropout() uses dropout rate instead of keep_prob. Please ensure that this is intended.\n",
      "WARNING:tensorflow:Large dropout rate: 0.7 (>0.5). In TensorFlow 2.x, dropout() uses dropout rate instead of keep_prob. Please ensure that this is intended.\n",
      "WARNING:tensorflow:From C:\\Users\\adessai\\anaconda3\\lib\\site-packages\\keras\\backend\\tensorflow_backend.py:174: The name tf.get_default_session is deprecated. Please use tf.compat.v1.get_default_session instead.\n",
      "\n",
      "WARNING:tensorflow:From C:\\Users\\adessai\\anaconda3\\lib\\site-packages\\keras\\optimizers.py:790: The name tf.train.Optimizer is deprecated. Please use tf.compat.v1.train.Optimizer instead.\n",
      "\n",
      "WARNING:tensorflow:From C:\\Users\\adessai\\anaconda3\\lib\\site-packages\\tensorflow\\python\\ops\\nn_impl.py:180: add_dispatch_support.<locals>.wrapper (from tensorflow.python.ops.array_ops) is deprecated and will be removed in a future version.\n",
      "Instructions for updating:\n",
      "Use tf.where in 2.0, which has the same broadcast rule as np.where\n"
     ]
    },
    {
     "name": "stderr",
     "output_type": "stream",
     "text": [
      "C:\\Users\\adessai\\anaconda3\\lib\\site-packages\\smart_open\\smart_open_lib.py:398: UserWarning: This function is deprecated, use smart_open.open instead. See the migration notes for details: https://github.com/RaRe-Technologies/smart_open/blob/master/README.rst#migrating-to-the-new-open-function\n",
      "  'See the migration notes for details: %s' % _MIGRATION_NOTES_URL\n"
     ]
    },
    {
     "name": "stdout",
     "output_type": "stream",
     "text": [
      "2 2 2\n"
     ]
    },
    {
     "name": "stderr",
     "output_type": "stream",
     "text": [
      "C:\\Users\\adessai\\anaconda3\\lib\\site-packages\\ipykernel_launcher.py:31: DeprecationWarning: Call to deprecated `__getitem__` (Method will be removed in 4.0.0, use self.wv.__getitem__() instead).\n",
      "C:\\Users\\adessai\\anaconda3\\lib\\site-packages\\ipykernel_launcher.py:42: DeprecationWarning: Call to deprecated `__getitem__` (Method will be removed in 4.0.0, use self.wv.__getitem__() instead).\n",
      "C:\\Users\\adessai\\anaconda3\\lib\\site-packages\\ipykernel_launcher.py:53: DeprecationWarning: Call to deprecated `__getitem__` (Method will be removed in 4.0.0, use self.wv.__getitem__() instead).\n"
     ]
    },
    {
     "name": "stdout",
     "output_type": "stream",
     "text": [
      "2 2 2\n",
      "3 3 3\n",
      "3 3 3\n",
      "3 3 3\n",
      "3 3 3\n",
      "4 4 4\n"
     ]
    }
   ],
   "source": [
    "eps = {'192.168.6.6.1':[\"http://zastapiony.piklamp.nl/military.xbel?face=jlthEvD&oil=70UfcEdppE&similar=0T9GXVd&plane=&never=XzUI&size=h-S&building=3NHL3LH4j&play=Ke9C4&over=&pattern=gKK\",\"https://www.google.com\"],\n",
    "      '0.0.0.1':[\"https://www.yagle.com/abcd/?=123\",\"https://www.google.com\",\"www.bitsadmin.com/\"]}\n",
    "\n",
    "### on assuming an input of the above format to the code\n",
    "\n",
    "model = load_model('current.best__std.hdf5')\n",
    "val_avg, unique_urls = return_avg_for_updated_url_score(eps,model)\n",
    "\n",
    "final_vec = vectorizer(splitter(eps['0.0.0.1']))\n",
    "url_scores = model.predict(vectorizer(splitter(unique_urls))).tolist()\n",
    "updated_url_score_dict = url_score_recalculator(val_avg, unique_urls, url_scores)\n",
    "\n",
    "score =  model.predict(final_vec).tolist()\n",
    "ep_sc = calc_endpoint_score(score)"
   ]
  },
  {
   "cell_type": "code",
   "execution_count": 16,
   "metadata": {},
   "outputs": [
    {
     "name": "stdout",
     "output_type": "stream",
     "text": [
      "Endpoint Vectors for URLs of '0.0.0.1' (3 x 300) :           0         1         2         3         4         5         6   \\\n",
      "0  1.459082 -3.259299  1.979346 -0.265111 -2.896737  1.215932 -1.661186   \n",
      "1  3.578903 -5.270251  2.364378  0.229436 -3.393633  1.455947 -2.137968   \n",
      "2 -0.145892 -0.154081 -0.383800 -0.552012 -1.168146 -0.070009  0.452086   \n",
      "\n",
      "         7         8         9   ...        90        91        92        93  \\\n",
      "0  0.168161 -1.645257 -1.127592  ...  0.199735 -0.440787 -0.280912  0.482175   \n",
      "1  0.025913 -2.056639 -2.126576  ...  0.211939 -0.424193 -0.261291  0.470320   \n",
      "2  0.525980  1.194449 -1.202422  ...  0.211939 -0.424193 -0.261291  0.470320   \n",
      "\n",
      "         94        95        96        97        98        99  \n",
      "0 -1.150446  0.503363 -0.022905 -0.048369  0.052436  1.149770  \n",
      "1 -1.098585  0.471811  0.010624 -0.075901  0.035317  1.103188  \n",
      "2 -1.098585  0.471811  0.010624 -0.075901  0.035317  1.103188  \n",
      "\n",
      "[3 rows x 300 columns]\n",
      "\n",
      "Scores for all unique URLs not bound by the endpoint: \n",
      " [[0.9904133677482605], [0.06353820115327835], [0.03088492341339588], [0.9999146461486816]]\n",
      "\n",
      "Updated URL scores to dict: \n",
      " [{'http://zastapiony.piklamp.nl/military.xbel?face=jlthEvD&oil=70UfcEdppE&similar=0T9GXVd&plane=&never=XzUI&size=h-S&building=3NHL3LH4j&play=Ke9C4&over=&pattern=gKK': 0.886968117132783}, {'https://www.google.com': 0.13973332829359505}, {'https://www.yagle.com/abcd/?=123': 0.08205901623807019}, {'www.bitsadmin.com/': 0.9038379605776734}]\n",
      "\n",
      "Scores for URLs of '0.0.0.1' endpoint: \n",
      " [[0.031071864068508148], [0.06358464807271957], [0.9999135732650757]]\n",
      "\n",
      "Endpoint score:  0.12161889837847813\n"
     ]
    }
   ],
   "source": [
    "print(\"Endpoint Vectors for URLs of '0.0.0.1' (3 x 300) : \",final_vec)\n",
    "print(\"\\nScores for all unique URLs not bound by the endpoint: \\n\",url_scores)\n",
    "print(\"\\nUpdated URL scores to dict: \\n\",updated_url_score_dict)\n",
    "print(\"\\nScores for URLs of '0.0.0.1' endpoint: \\n\",score)\n",
    "print(\"\\nEndpoint score: \",ep_sc)"
   ]
  },
  {
   "cell_type": "markdown",
   "metadata": {},
   "source": [
    "## future updates would make use of incremental learning structures"
   ]
  }
 ],
 "metadata": {
  "kernelspec": {
   "display_name": "Python 3",
   "language": "python",
   "name": "python3"
  },
  "language_info": {
   "codemirror_mode": {
    "name": "ipython",
    "version": 3
   },
   "file_extension": ".py",
   "mimetype": "text/x-python",
   "name": "python",
   "nbconvert_exporter": "python",
   "pygments_lexer": "ipython3",
   "version": "3.7.3"
  }
 },
 "nbformat": 4,
 "nbformat_minor": 2
}
